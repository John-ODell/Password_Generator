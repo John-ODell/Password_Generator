{
 "cells": [
  {
   "cell_type": "code",
   "execution_count": 8,
   "id": "2cd25259",
   "metadata": {},
   "outputs": [],
   "source": [
    "from flask import Flask, request\n",
    "import pandas as pd\n",
    "import random\n",
    "import string"
   ]
  },
  {
   "cell_type": "markdown",
   "id": "d26f4349",
   "metadata": {},
   "source": [
    "Some webistes can be stricky about Symbols, we create a def to only use letters and numbers. Password strentgh is mostly in length, while most websites do a limit between 12-20, it is better to have a long one that a short one with some sybmols."
   ]
  },
  {
   "cell_type": "code",
   "execution_count": 9,
   "id": "ed1d65d4",
   "metadata": {},
   "outputs": [],
   "source": [
    "def gen_password_letters_numbers(length):\n",
    "    letters = string.ascii_letters\n",
    "    numbers = string.digits\n",
    "    all_characters = letters+numbers\n",
    "    random.shuffle(all_characters)\n",
    "    password = ''.join(random.choice(all_characters) for i in range (length))\n",
    "    return password"
   ]
  },
  {
   "cell_type": "markdown",
   "id": "2fc9398f",
   "metadata": {},
   "source": [
    "Symbols that will cause probelms most often are found in the standard library of punctuation so a custom list is a better option."
   ]
  },
  {
   "cell_type": "code",
   "execution_count": 10,
   "id": "eb9fea15",
   "metadata": {},
   "outputs": [],
   "source": [
    "symbols = { \"ampersand\": \"&\", \"asterisk\": \"*\", \"at\": \"@\", \"caret\": \"^\", \"comma\": \",\", \"curly_brace_close\": \"}\", \"curly_brace_open\": \"{\", \"dollar\": \"$\", \"exclamation\": \"!\", \"hash\": \"#\", \"parenthesis_close\": \")\", \"parenthesis_open\": \"(\", \"percent\": \"%\", \"period\": \".\", \"plus\": \"+\", \"question_mark\": \"?\", \"tilde\": \"~\", \"underscore\": \"_\" }"
   ]
  },
  {
   "cell_type": "code",
   "execution_count": 11,
   "id": "aff93602",
   "metadata": {},
   "outputs": [],
   "source": [
    "def gen_password_symbols(length):\n",
    "    letters = string.ascii_letters\n",
    "    numbers = string.digits\n",
    "    all_characters = list(letters+numbers+''.join(symbols.values()))\n",
    "    random.shuffle(all_characters)\n",
    "    password = ''.join(random.choice(all_characters) for i in range (length))\n",
    "    return password"
   ]
  },
  {
   "cell_type": "markdown",
   "id": "ed2794fb",
   "metadata": {},
   "source": [
    "We create a CSV of the names and password to read in a jupyter note book during the Flask portion."
   ]
  },
  {
   "cell_type": "code",
   "execution_count": null,
   "id": "dc40ca4e",
   "metadata": {},
   "outputs": [],
   "source": [
    "password_list = pd.DataFrame(columns=['Name', 'Password'])"
   ]
  },
  {
   "cell_type": "markdown",
   "id": "65396fa0",
   "metadata": {},
   "source": [
    " Interactive HTTP to name and choose length and type of password."
   ]
  },
  {
   "cell_type": "markdown",
   "id": "2fb42679",
   "metadata": {},
   "source": [
    "#Flask may have problems running inside jupyter notebook.\n",
    "Save as .py or smush the code together inside pycharm to run. "
   ]
  },
  {
   "cell_type": "code",
   "execution_count": null,
   "id": "a9e8d68e",
   "metadata": {},
   "outputs": [],
   "source": [
    "@app.route('/', methods=['GET', 'POST'])\n",
    "def index():\n",
    "    global password_list\n",
    "    if request.method == 'POST':\n",
    "        name = request.form['name']\n",
    "        length = int(request.form['length'])\n",
    "        use_symbols = request.form.get('use_symbols')\n",
    "\n",
    "        if use_symbols:\n",
    "            password = gen_password_symbols(length)\n",
    "        else:\n",
    "            password = gen_password_letters_numbers(length)\n",
    "\n",
    "        new_row = pd.DataFrame({'Name': [name], 'Password': [password]})\n",
    "        password_list = pd.concat([password_list, new_row], ignore_index=True)\n",
    "\n",
    "        print(password_list)\n",
    "\n",
    "        password_list.to_csv('passwords.csv', index=False)\n",
    "\n",
    "        return f\"Password for {name}: {password} (Saved to CSV)\"\n",
    "\n",
    "    return '''\n",
    "        <form method=\"post\">\n",
    "            Name: <input type=\"text\" name=\"name\"><br>\n",
    "            Length: <input type=\"number\" name=\"length\"><br>\n",
    "            Use Symbols: <input type=\"checkbox\" name=\"use_symbols\"><br>\n",
    "            <input type=\"submit\" value=\"Generate and Save\">\n",
    "        </form>\n",
    "    '''\n",
    "\n",
    "\n",
    "if __name__ == '__main__':\n",
    "    app.run(debug=True)"
   ]
  }
 ],
 "metadata": {
  "kernelspec": {
   "display_name": "Python 3 (ipykernel)",
   "language": "python",
   "name": "python3"
  },
  "language_info": {
   "codemirror_mode": {
    "name": "ipython",
    "version": 3
   },
   "file_extension": ".py",
   "mimetype": "text/x-python",
   "name": "python",
   "nbconvert_exporter": "python",
   "pygments_lexer": "ipython3",
   "version": "3.11.5"
  }
 },
 "nbformat": 4,
 "nbformat_minor": 5
}

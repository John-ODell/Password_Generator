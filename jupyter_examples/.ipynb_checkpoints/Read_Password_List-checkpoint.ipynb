{
 "cells": [
  {
   "cell_type": "code",
   "execution_count": 1,
   "id": "304444f8",
   "metadata": {},
   "outputs": [],
   "source": [
    "import pandas as pd"
   ]
  },
  {
   "cell_type": "code",
   "execution_count": 2,
   "id": "c7b2c097",
   "metadata": {},
   "outputs": [],
   "source": [
    "password_list = pd.read_csv('passwords.csv')"
   ]
  },
  {
   "cell_type": "code",
   "execution_count": 3,
   "id": "84045f67",
   "metadata": {},
   "outputs": [
    {
     "name": "stdout",
     "output_type": "stream",
     "text": [
      "           Name                Password\n",
      "0  new password  ht40YXNrxaNLsW3vPqQp7y\n",
      "1     secondone         M{(O6DRG*mV9Tbe\n"
     ]
    }
   ],
   "source": [
    "print(password_list)"
   ]
  },
  {
   "cell_type": "code",
   "execution_count": null,
   "id": "66952e8d",
   "metadata": {},
   "outputs": [],
   "source": []
  }
 ],
 "metadata": {
  "kernelspec": {
   "display_name": "Python 3 (ipykernel)",
   "language": "python",
   "name": "python3"
  },
  "language_info": {
   "codemirror_mode": {
    "name": "ipython",
    "version": 3
   },
   "file_extension": ".py",
   "mimetype": "text/x-python",
   "name": "python",
   "nbconvert_exporter": "python",
   "pygments_lexer": "ipython3",
   "version": "3.11.5"
  }
 },
 "nbformat": 4,
 "nbformat_minor": 5
}
